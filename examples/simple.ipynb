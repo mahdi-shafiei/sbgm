{
 "cells": [
  {
   "cell_type": "code",
   "execution_count": 1,
   "metadata": {},
   "outputs": [],
   "source": [
    "import jax\n",
    "import jax.numpy as jnp \n",
    "import jax.random as jr\n",
    "import optax\n",
    "\n",
    "import sbgm"
   ]
  },
  {
   "cell_type": "code",
   "execution_count": 2,
   "metadata": {},
   "outputs": [
    {
     "data": {
      "text/plain": [
       "{'name': 'dataset',\n",
       " 'train_dataloader': <data.utils.InMemoryDataLoader at 0x7ff808c7d640>,\n",
       " 'valid_dataloader': <data.utils.InMemoryDataLoader at 0x7ff7f013b3b0>,\n",
       " 'data_shape': (1, 32, 32),\n",
       " 'context_shape': None,\n",
       " 'parameter_dim': 10,\n",
       " 'process_fn': None,\n",
       " 'label_fn': functools.partial(<function dataset_from_tensors.<locals>.label_fn at 0x7ff79c71d940>, Q=None, A=Array([[1., 1., 1., ..., 1., 1., 1.],\n",
       "        [1., 1., 1., ..., 1., 1., 1.],\n",
       "        [1., 1., 1., ..., 1., 1., 1.],\n",
       "        ...,\n",
       "        [1., 1., 1., ..., 1., 1., 1.],\n",
       "        [1., 1., 1., ..., 1., 1., 1.],\n",
       "        [1., 1., 1., ..., 1., 1., 1.]], dtype=float32))}"
      ]
     },
     "execution_count": 2,
     "metadata": {},
     "output_type": "execute_result"
    }
   ],
   "source": [
    "from data.utils import dataset_from_tensors\n",
    "\n",
    "key = jr.key(0)\n",
    "key, key_X, key_model, key_train = jr.split(key, 4)\n",
    "\n",
    "n_channels = 1\n",
    "n_pix = 32\n",
    "parameter_dim = 10\n",
    "\n",
    "X = jr.normal(key, (1000, n_channels, n_pix, n_pix))\n",
    "A = jnp.ones((1000, parameter_dim))\n",
    "\n",
    "dataset = dataset_from_tensors(\n",
    "    X=X, A=A, key=key, in_memory=True, name=\"dataset\"\n",
    ")\n",
    "\n",
    "vars(dataset)"
   ]
  },
  {
   "cell_type": "code",
   "execution_count": 3,
   "metadata": {},
   "outputs": [],
   "source": [
    "# Data\n",
    "dataset_name          = dataset.name \n",
    "img_shape             = (n_channels, n_pix, n_pix)\n",
    "\n",
    "# Model (DiT)\n",
    "n_heads               = 4  \n",
    "embed_dim             = 32\n",
    "patch_size            = 4 \n",
    "depth                 = 2\n",
    "\n",
    "# SDE\n",
    "t1                    = 8.\n",
    "t0                    = 0.\n",
    "dt                    = 0.1\n",
    "beta_integral         = lambda t: t \n",
    "weight_fn             = lambda t: 1. - jnp.exp(-beta_integral(t)) \n",
    "\n",
    "# Sampling\n",
    "use_ema               = False\n",
    "sample_size           = 5 # Squared for a grid\n",
    "exact_log_prob            = False\n",
    "ode_sample            = True # Sample the ODE during training\n",
    "eu_sample             = True # Euler-Maruyama sample the SDE during training\n",
    "\n",
    "# Optimisation hyperparameters\n",
    "start_step            = 0\n",
    "n_steps               = 10_000\n",
    "batch_size            = 50 * len(jax.devices())\n",
    "sample_and_save_every = 10_000\n",
    "lr                    = 3e-4\n",
    "opt                   = optax.adamw\n",
    "opt_kwargs            = {} "
   ]
  },
  {
   "cell_type": "code",
   "execution_count": 4,
   "metadata": {},
   "outputs": [
    {
     "name": "stdout",
     "output_type": "stream",
     "text": [
      "Running on 4 local devices: \n",
      "\t[CudaDevice(id=0), CudaDevice(id=1), CudaDevice(id=2), CudaDevice(id=3)]\n"
     ]
    }
   ],
   "source": [
    "# Multiple GPU training if you are so inclined\n",
    "sharding, replicated_sharding = sbgm.shard.get_shardings()"
   ]
  },
  {
   "cell_type": "code",
   "execution_count": 5,
   "metadata": {},
   "outputs": [],
   "source": [
    "model = sbgm.models.DiT(\n",
    "    img_size=n_pix,\n",
    "    channels=n_channels,\n",
    "    embed_dim=embed_dim,\n",
    "    patch_size=patch_size,\n",
    "    depth=depth,\n",
    "    n_heads=n_heads,\n",
    "    a_dim=parameter_dim,    # Number of parameters in power spectrum model\n",
    "    key=key_model\n",
    ")\n",
    "\n",
    "sde = sbgm.sde.VPSDE(\n",
    "    beta_integral_fn=beta_integral,\n",
    "    dt=dt,\n",
    "    t0=t0, \n",
    "    t1=t1,\n",
    "    weight_fn=weight_fn\n",
    ")"
   ]
  },
  {
   "cell_type": "code",
   "execution_count": 6,
   "metadata": {},
   "outputs": [
    {
     "name": "stdout",
     "output_type": "stream",
     "text": [
      "Training SGM with a VPSDE on dataset dataset.\n"
     ]
    },
    {
     "data": {
      "application/vnd.jupyter.widget-view+json": {
       "model_id": "43493f09fe9a4932b04f12a55aa150de",
       "version_major": 2,
       "version_minor": 0
      },
      "text/plain": [
       "  0%|          | 0/10000 [00:00<?, ?it/s]"
      ]
     },
     "metadata": {},
     "output_type": "display_data"
    }
   ],
   "source": [
    "# Fit model to dataset\n",
    "model = sbgm.train.train(\n",
    "    key_train,\n",
    "    model,\n",
    "    sde,\n",
    "    dataset,\n",
    "    opt=opt(lr, **opt_kwargs),\n",
    "    n_steps=n_steps,\n",
    "    batch_size=batch_size,\n",
    "    sample_size=sample_size,\n",
    "    eu_sample=eu_sample,\n",
    "    ode_sample=ode_sample,\n",
    "    reload_opt_state=False,\n",
    "    plot_train_data=True,\n",
    "    sharding=sharding,\n",
    "    replicated_sharding=replicated_sharding,\n",
    "    save_dir=\"./\"\n",
    ")"
   ]
  },
  {
   "cell_type": "code",
   "execution_count": null,
   "metadata": {},
   "outputs": [],
   "source": [
    "n_side = 10\n",
    "\n",
    "key, key_Q, sample_key = jr.split(key, 3)\n",
    "sample_keys = jr.split(sample_key, n_side ** 2)\n",
    "\n",
    "# Sample random conditioning fields and P(k) parameters \n",
    "Q, A = dataset.label_fn(key_Q, n_side ** 2)\n",
    "\n",
    "# EU sampling\n",
    "sample_fn = sbgm.sample.get_eu_sample_fn(model, sde, dataset.data_shape)\n",
    "eu_samples = jax.vmap(sample_fn)(sample_keys, Q, A)\n",
    "eu_samples = dataset.process_fn.reverse(eu_samples)\n",
    "\n",
    "# ODE sampling\n",
    "sample_fn = sbgm.sample.get_ode_sample_fn(model, sde, dataset.data_shape)\n",
    "ode_samples = jax.vmap(sample_fn)(sample_keys, Q, A)\n",
    "ode_samples = dataset.process_fn.reverse(ode_samples)\n",
    "\n",
    "fig, axs = plt.subplots(1, 2, dpi=150)\n",
    "ax = axs[0]\n",
    "ax.imshow(\n",
    "    rearrange(eu_samples, \"(h w) c x y -> (h x) (w y) c\", h=n_side, w=n_side, x=n_pix, y=n_pix), \n",
    "    cmap=cmap\n",
    ")\n",
    "ax = axs[1]\n",
    "ax.imshow(\n",
    "    rearrange(ode_samples, \"(h w) c x y -> (h x) (w y) c\", h=n_side, w=n_side, x=n_pix, y=n_pix), \n",
    "    cmap=cmap\n",
    ")\n",
    "for ax in axs:\n",
    "    ax.set_xticks([])\n",
    "    ax.set_yticks([])\n",
    "plt.show()"
   ]
  }
 ],
 "metadata": {
  "kernelspec": {
   "display_name": ".venv",
   "language": "python",
   "name": "python3"
  },
  "language_info": {
   "codemirror_mode": {
    "name": "ipython",
    "version": 3
   },
   "file_extension": ".py",
   "mimetype": "text/x-python",
   "name": "python",
   "nbconvert_exporter": "python",
   "pygments_lexer": "ipython3",
   "version": "3.12.2"
  }
 },
 "nbformat": 4,
 "nbformat_minor": 2
}
